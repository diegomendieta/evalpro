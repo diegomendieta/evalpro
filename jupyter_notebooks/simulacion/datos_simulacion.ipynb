{
 "cells": [
  {
   "cell_type": "code",
   "execution_count": 17,
   "metadata": {},
   "outputs": [],
   "source": [
    "import pandas as pd\n",
    "from datetime import datetime\n",
    "from datetime import date\n",
    "import json\n",
    "import math\n",
    "import numpy as np\n",
    "\n",
    "with open('lead_times_dict.json', 'r') as file:\n",
    "    lead_times_dict = json.load(file)\n",
    "    \n",
    "with open('S_factor_dict.json', 'r') as file:\n",
    "    S_factor_dict = json.load(file)\n",
    "\n",
    "\n",
    "def create_filtered_dataframe(file, HUB, n_skus):\n",
    "    datos_limpios = pd.read_csv(file)\n",
    "    datos_limpios = datos_limpios.drop(columns='Unnamed: 0')\n",
    "    datos_limpios_HUB = datos_limpios[datos_limpios['HUB'] == HUB]\n",
    "\n",
    "    top_skus = datos_limpios_HUB.groupby(by=['ID_SKU_VENTA']).sum().reset_index()\n",
    "    top_n_skus = top_skus.sort_values(by='Venta en pallets', ascending=False).head(n_skus)\n",
    "    top_n_skus_list = list(top_n_skus['ID_SKU_VENTA'])\n",
    "\n",
    "    datos_limpios_HUB_SKUS = datos_limpios_HUB[datos_limpios_HUB['ID_SKU_VENTA'].isin(top_n_skus_list)]\n",
    "    \n",
    "    return datos_limpios_HUB_SKUS\n",
    "\n",
    "\n",
    "def simulation_generator(dataframe, sS_dict, sku, cd):\n",
    "    \n",
    "    sS_info = sS_dict[(sku, cd)]\n",
    "    \n",
    "    dataframe = dataframe[(dataframe['ID_SKU_VENTA'] == sku) & (dataframe['DESCR_CENDIST'] == cd)]\n",
    "    \n",
    "    for index, row in dataframe.iterrows():\n",
    "        \n",
    "        yield row['Venta en pallets'], sS_info[0], sS_info[1]\n",
    "        \n",
    "        \n",
    "def stats(dataframe, confianza):\n",
    "\n",
    "    mean_no_group = dataframe.groupby(by=['ID_SKU_VENTA', 'DESCR_CENDIST']).mean().reset_index().rename(columns={'Venta en pallets': 'MEDIA'})\n",
    "    stdev_no_group = dataframe.groupby(by=['ID_SKU_VENTA', 'DESCR_CENDIST']).std().reset_index().rename(columns={'Venta en pallets': 'STD'})\n",
    "    \n",
    "    mean_no_group['MEDIA'] = mean_no_group.apply(lambda x: x.MEDIA * lead_times_dict[x['DESCR_CENDIST']], axis=1)\n",
    "    stdev_no_group['STD'] = stdev_no_group.apply(lambda x: x.STD * lead_times_dict[x['DESCR_CENDIST']], axis=1)\n",
    "\n",
    "    data_completa = mean_no_group.merge(stdev_no_group, on=['ID_SKU_VENTA', 'DESCR_CENDIST'])\n",
    "\n",
    "    data_completa['s'] = data_completa.apply(lambda x: confianza * x['STD'], axis=1)\n",
    "    \n",
    "    data_completa['S'] = data_completa.apply(lambda x: x['s'] * int(S_factor_dict[str(x['ID_SKU_VENTA'])]), axis=1)\n",
    "    \n",
    "    return data_completa.drop(columns=['MEDIA', 'STD', 'Unnamed: 0.1_x', 'Unnamed: 0.1_y'])\n",
    "\n",
    "\n",
    "def create_sS_dict(dataframe):\n",
    "    sS_dict = {}\n",
    "    for index, row in dataframe.iterrows():\n",
    "        sS_dict[(row['ID_SKU_VENTA'], row['DESCR_CENDIST'])] = (row['s'], row['S'])\n",
    "    return sS_dict"
   ]
  },
  {
   "cell_type": "code",
   "execution_count": 18,
   "metadata": {},
   "outputs": [
    {
     "name": "stdout",
     "output_type": "stream",
     "text": [
      "(4.75, 6.163813364843206, 6.163813364843206)\n"
     ]
    }
   ],
   "source": [
    "datos_limpios_HUB_SKUS = create_filtered_dataframe('../../data/datos_limpios_filtrados.csv', 'TALCAHUANO', 10)      \n",
    "stats = stats(datos_limpios_HUB_SKUS, 1.65)\n",
    "sS_dict = create_sS_dict(stats)\n",
    "generador = simulation_generator(datos_limpios_HUB_SKUS, sS_dict, 622, 'CHILLAN')"
   ]
  },
  {
   "cell_type": "code",
   "execution_count": null,
   "metadata": {},
   "outputs": [],
   "source": []
  }
 ],
 "metadata": {
  "kernelspec": {
   "display_name": "Python 3",
   "language": "python",
   "name": "python3"
  },
  "language_info": {
   "codemirror_mode": {
    "name": "ipython",
    "version": 3
   },
   "file_extension": ".py",
   "mimetype": "text/x-python",
   "name": "python",
   "nbconvert_exporter": "python",
   "pygments_lexer": "ipython3",
   "version": "3.8.5"
  }
 },
 "nbformat": 4,
 "nbformat_minor": 4
}
