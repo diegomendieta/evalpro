{
 "cells": [
  {
   "cell_type": "code",
   "execution_count": 96,
   "metadata": {},
   "outputs": [],
   "source": [
    "import pandas as pd\n",
    "\n",
    "FILE_NO_AGRUPADOS = '../data/datos_limpios_filtrados.csv'\n",
    "FILE_AGRUPADOS = '../data/Agrupacion total variabilidad/datos_limpios_agrupacion_total_variabilidad.csv'\n",
    "\n",
    "datos_limpios_no_agrupados = pd.read_csv(FILE_NO_AGRUPADOS)\n",
    "datos_limpios_agrupados = pd.read_csv(FILE_AGRUPADOS)\n",
    "\n",
    "lead_time = 7\n",
    "\n",
    "def stats(datos):\n",
    "    \n",
    "    global lead_time\n",
    "\n",
    "    mean_no_group = datos.groupby(by=['ID_SKU_VENTA', 'DESCR_CENDIST']).mean().reset_index().rename(columns={'Venta en pallets': 'MEDIA'})\n",
    "    stdev_no_group = datos.groupby(by=['ID_SKU_VENTA', 'DESCR_CENDIST']).std().reset_index().rename(columns={'Venta en pallets': 'STD'})\n",
    "\n",
    "    mean_no_group['MEDIA'] = mean_no_group.apply(lambda x: x.MEDIA * lead_time, axis=1)\n",
    "    stdev_no_group['STD'] = stdev_no_group.apply(lambda x: x.STD * lead_time, axis=1)\n",
    "\n",
    "    data_completa = mean_no_group.merge(stdev_no_group, on=['ID_SKU_VENTA', 'DESCR_CENDIST'])\n",
    "    data_completa['COEF_VAR'] = data_completa.apply(lambda x: x['STD'] / x['MEDIA'] if x['MEDIA'] != 0 else 0, axis=1)\n",
    "    data_completa['SS'] = data_completa.apply(lambda x: 1.65 * x['STD'], axis=1)\n",
    "    data_completa['STOCK_TEORICO'] = data_completa.apply(lambda x: x['MEDIA'] + x['SS'], axis=1)\n",
    "    data_completa['PORCENTAJE_SS_DEL_TOTAL'] = data_completa.apply(lambda x: x['SS'] / x['STOCK_TEORICO'] if x['MEDIA'] != 0 else 0, axis=1)\n",
    "    porcentaje_ss_del_total = data_completa['SS'].sum() / data_completa['STOCK_TEORICO'].sum()\n",
    "    \n",
    "    return data_completa, porcentaje_ss_del_total"
   ]
  },
  {
   "cell_type": "code",
   "execution_count": 97,
   "metadata": {},
   "outputs": [],
   "source": [
    "datos_limpios_no_agrupados = datos_limpios_no_agrupados[(datos_limpios_no_agrupados['DESCR_CENDIST'] != 'CERVECERA') & \n",
    "                                                        (datos_limpios_no_agrupados['DESCR_CENDIST'] != 'MODELO')]\n",
    "stats_no_agrupados, porcentaje_ss_no_agrupado = stats(datos_limpios_no_agrupados)\n",
    "# stats_no_agrupados"
   ]
  },
  {
   "cell_type": "code",
   "execution_count": 98,
   "metadata": {},
   "outputs": [],
   "source": [
    "datos_limpios_agrupados = datos_limpios_agrupados[(datos_limpios_agrupados['DESCR_CENDIST'] != 'CERVECERA') & \n",
    "                                                  (datos_limpios_agrupados['DESCR_CENDIST'] != 'MODELO')]\n",
    "stats_agrupados, porcentaje_ss_agrupado = stats(datos_limpios_agrupados)\n",
    "stats_agrupados = stats_agrupados.drop(columns=['Unnamed: 0_x', 'Unnamed: 0_y'])\n",
    "# stats_agrupados"
   ]
  },
  {
   "cell_type": "code",
   "execution_count": 99,
   "metadata": {},
   "outputs": [],
   "source": [
    "demandas = stats_no_agrupados.groupby(by=['ID_SKU_VENTA', 'DESCR_CENDIST']).sum().reset_index()\n",
    "demandas = demandas[['ID_SKU_VENTA', 'DESCR_CENDIST', 'MEDIA']]\n",
    "demandas_agregadas = demandas.groupby(by=['ID_SKU_VENTA']).sum().reset_index()[['ID_SKU_VENTA', 'MEDIA']]\n",
    "# demandas"
   ]
  },
  {
   "cell_type": "code",
   "execution_count": 100,
   "metadata": {},
   "outputs": [],
   "source": [
    "no_agr = stats_no_agrupados[['ID_SKU_VENTA', 'DESCR_CENDIST', 'STOCK_TEORICO']]\n",
    "# no_agr"
   ]
  },
  {
   "cell_type": "code",
   "execution_count": 101,
   "metadata": {},
   "outputs": [],
   "source": [
    "agr = stats_agrupados[['ID_SKU_VENTA', 'DESCR_CENDIST', 'STOCK_TEORICO']]\n",
    "# agr"
   ]
  },
  {
   "cell_type": "code",
   "execution_count": 102,
   "metadata": {},
   "outputs": [],
   "source": [
    "data_diferencias = no_agr.merge(agr, on=['ID_SKU_VENTA', 'DESCR_CENDIST'], how='outer')\n",
    "data_diferencias = data_diferencias.rename(columns={'STOCK_TEORICO_x': 'STOCK_NO_AGRUPADO',\n",
    "                                                    'STOCK_TEORICO_y': 'STOCK_AGRUPADO'})\n",
    "data_diferencias = data_diferencias.fillna(0)\n",
    "data_diferencias['DELTA'] = data_diferencias['STOCK_NO_AGRUPADO'] - data_diferencias['STOCK_AGRUPADO']\n",
    "# data_diferencias"
   ]
  },
  {
   "cell_type": "code",
   "execution_count": 103,
   "metadata": {},
   "outputs": [],
   "source": [
    "diferencias_agregadas_sku = data_diferencias.groupby(by=['ID_SKU_VENTA']).sum().reset_index()\n",
    "# diferencias_agregadas_sku"
   ]
  },
  {
   "cell_type": "code",
   "execution_count": 104,
   "metadata": {},
   "outputs": [],
   "source": [
    "dias_venta_desagregados = demandas.merge(data_diferencias, on=['ID_SKU_VENTA', 'DESCR_CENDIST'])\n",
    "dias_venta_desagregados['DELTA_SEMANAS_VENTA'] = dias_venta_desagregados['DELTA'] / dias_venta_desagregados['MEDIA']\n",
    "dias_venta_desagregados['DELTA_DIAS_VENTA'] = dias_venta_desagregados['DELTA_SEMANAS_VENTA'] * 7\n",
    "dias_venta_desagregados = dias_venta_desagregados[['ID_SKU_VENTA', 'DESCR_CENDIST', 'MEDIA', 'DELTA_DIAS_VENTA']]\n",
    "dias_venta_desagregados = dias_venta_desagregados.rename(columns={'MEDIA': 'MEDIA_SEMANAL'})\n",
    "# dias_venta_desagregados"
   ]
  },
  {
   "cell_type": "code",
   "execution_count": 105,
   "metadata": {},
   "outputs": [],
   "source": [
    "dias_venta_agregados = demandas.merge(diferencias_agregadas_sku, on=['ID_SKU_VENTA'])\n",
    "dias_venta_agregados['DELTA_SEMANAS_VENTA'] = dias_venta_agregados['DELTA'] / dias_venta_agregados['MEDIA']\n",
    "dias_venta_agregados['DELTA_DIAS_VENTA'] = dias_venta_agregados['DELTA_SEMANAS_VENTA'] * 7\n",
    "dias_venta_agregados = dias_venta_agregados[['ID_SKU_VENTA', 'MEDIA', 'DELTA_DIAS_VENTA']]\n",
    "dias_venta_agregados = dias_venta_agregados.rename(columns={'MEDIA': 'MEDIA_SEMANAL'})\n",
    "# dias_venta_agregados"
   ]
  },
  {
   "cell_type": "code",
   "execution_count": 112,
   "metadata": {},
   "outputs": [],
   "source": [
    "FILE_DESAGREGADOS = '../data/Agrupacion total variabilidad/dias_venta_desagregados_agrupacion_total_variabilidad.csv'\n",
    "FILE_AGREGADOS = '../data/Agrupacion total variabilidad/dias_venta_agregados_agrupacion_total_variabilidad.csv'\n",
    "\n",
    "dias_venta_desagregados.to_csv(FILE_DESAGREGADOS)\n",
    "dias_venta_agregados.to_csv(FILE_AGREGADOS)"
   ]
  }
 ],
 "metadata": {
  "kernelspec": {
   "display_name": "Python 3",
   "language": "python",
   "name": "python3"
  },
  "language_info": {
   "codemirror_mode": {
    "name": "ipython",
    "version": 3
   },
   "file_extension": ".py",
   "mimetype": "text/x-python",
   "name": "python",
   "nbconvert_exporter": "python",
   "pygments_lexer": "ipython3",
   "version": "3.8.5"
  }
 },
 "nbformat": 4,
 "nbformat_minor": 4
}
