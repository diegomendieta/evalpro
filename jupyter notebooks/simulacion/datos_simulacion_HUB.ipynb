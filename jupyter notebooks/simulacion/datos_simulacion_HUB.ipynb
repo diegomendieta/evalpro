{
 "cells": [
  {
   "cell_type": "code",
   "execution_count": 69,
   "metadata": {},
   "outputs": [],
   "source": [
    "import pandas as pd\n",
    "from datetime import datetime\n",
    "from datetime import date\n",
    "import json\n",
    "import math\n",
    "import numpy as np\n",
    "\n",
    "def create_filtered_dataframe(file, HUB):\n",
    "    datos_limpios = pd.read_csv(file)\n",
    "    datos_limpios = datos_limpios.drop(columns='Unnamed: 0')\n",
    "    datos_limpios_HUB = datos_limpios[datos_limpios['HUB'] == HUB]\n",
    "\n",
    "    top_skus = datos_limpios_HUB.groupby(by=['ID_SKU_VENTA']).sum().reset_index()\n",
    "    top_10 = top_skus.sort_values(by='Venta en pallets', ascending=False).head(10)\n",
    "    top_10_list = list(top_10['ID_SKU_VENTA'])\n",
    "\n",
    "    datos_limpios_HUB_SKUS = datos_limpios_HUB[datos_limpios_HUB['ID_SKU_VENTA'].isin(top_10_list)]\n",
    "    \n",
    "    return datos_limpios_HUB_SKUS\n",
    "\n",
    "\n",
    "def simulation_generator(dataframe):\n",
    "    \n",
    "    for index, row in dataframe.iterrows():\n",
    "        \n",
    "        yield row['DESCR_CENDIST'], row['ID_SKU_VENTA'], row['Venta en pallets']\n",
    "        \n",
    "        \n",
    "datos_limpios_HUB_SKUS = create_filtered_dataframe('../../data/datos_limpios_filtrados.csv', 'TALCAHUANO')      \n",
    "generador = simulation_generator(datos_limpios_HUB_SKUS)"
   ]
  },
  {
   "cell_type": "code",
   "execution_count": 70,
   "metadata": {},
   "outputs": [
    {
     "name": "stdout",
     "output_type": "stream",
     "text": [
      "('CHILLAN', 622, 4.75)\n"
     ]
    }
   ],
   "source": [
    "print(next(generador))"
   ]
  },
  {
   "cell_type": "code",
   "execution_count": null,
   "metadata": {},
   "outputs": [],
   "source": []
  }
 ],
 "metadata": {
  "kernelspec": {
   "display_name": "Python 3",
   "language": "python",
   "name": "python3"
  },
  "language_info": {
   "codemirror_mode": {
    "name": "ipython",
    "version": 3
   },
   "file_extension": ".py",
   "mimetype": "text/x-python",
   "name": "python",
   "nbconvert_exporter": "python",
   "pygments_lexer": "ipython3",
   "version": "3.8.5"
  }
 },
 "nbformat": 4,
 "nbformat_minor": 4
}
